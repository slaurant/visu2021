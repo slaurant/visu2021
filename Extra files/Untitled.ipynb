{
 "cells": [
  {
   "cell_type": "markdown",
   "id": "1b3e483f",
   "metadata": {},
   "source": [
    "# Formatter  & filtrer datasets\n"
   ]
  },
  {
   "cell_type": "markdown",
   "id": "b4f5b33d",
   "metadata": {},
   "source": [
    "### importer fichiers (JSON)\n"
   ]
  },
  {
   "cell_type": "code",
   "execution_count": 1,
   "id": "804d2e8a",
   "metadata": {},
   "outputs": [],
   "source": [
    "# importer libraries\n",
    "import json\n",
    "import os"
   ]
  },
  {
   "cell_type": "code",
   "execution_count": 2,
   "id": "ace061b9",
   "metadata": {},
   "outputs": [],
   "source": [
    "# get  volcano events\n",
    "with open(\"../Datasets/volcano_events.json\") as file:\n",
    "    eruptions = json.load(file)\n",
    "\n",
    "# get locations\n",
    "with open(\"../Datasets/volcano_locations.json\") as file:\n",
    "    locations = json.load(file)\n",
    "\n",
    "# get tsunamis\n",
    "with open(\"../Datasets/tsunamis_events.json\") as file:\n",
    "    tsunamis = json.load(file)\n",
    "\n",
    "# get earthquakes\n",
    "with open(\"../Datasets/earthquakes_events.json\") as file:\n",
    "    earthquakes= json.load(file)"
   ]
  },
  {
   "cell_type": "markdown",
   "id": "fa9f4b07",
   "metadata": {},
   "source": [
    "### filtrer mort > 0"
   ]
  },
  {
   "cell_type": "code",
   "execution_count": 3,
   "id": "def9c81d",
   "metadata": {},
   "outputs": [],
   "source": [
    "# volcanos\n",
    "eruptions = [event for event in eruptions if \"deathsAmountOrder\" in event]\n",
    "eruptions = [event for event in eruptions if event[\"deathsAmountOrder\"] > 0]\n",
    "# tsunamis\n",
    "tsunamis = [event for event in tsunamis if \"deathsAmountOrder\" in event]\n",
    "tsunamis = [event for event in tsunamis if event[\"deathsAmountOrder\"] > 0]\n",
    "# earthquakes\n",
    "earthquakes = [event for event in earthquakes if \"deathsAmountOrder\" in event]\n",
    "earthquakes = [event for event in earthquakes if event[\"deathsAmountOrder\"] > 0]\n"
   ]
  },
  {
   "cell_type": "markdown",
   "id": "40ae53ed",
   "metadata": {},
   "source": [
    "### ajouter infos volcano locations dans volcano events"
   ]
  },
  {
   "cell_type": "code",
   "execution_count": 4,
   "id": "68bad736",
   "metadata": {},
   "outputs": [],
   "source": [
    "# for each event get corresponding location and append country and extract useful informations\n",
    "\n",
    "for event in eruptions:\n",
    "    location = [volc for volc in locations if volc[\"id\"] == event[\"volcanoLocationId\"]][0]\n",
    "    event[\"country\"] = location[\"country\"]\n",
    "    event[\"location\"] = location[\"location\"]\n",
    "    event[\"latitude\"] = location[\"latitude\"]\n",
    "    event[\"longitude\"] = location[\"longitude\"]\n",
    "    event[\"name\"] = location[\"name\"]\n",
    "\n"
   ]
  },
  {
   "cell_type": "code",
   "execution_count": 5,
   "id": "e4595399",
   "metadata": {},
   "outputs": [],
   "source": [
    "new_key = \"locationName\"\n",
    "old_key = \"location\"\n",
    "for elemnt in eruptions : \n",
    "    elemnt[new_key] = elemnt.pop(old_key)\n",
    "    \n",
    "# changer la clé location en locatioName dans eruptions pour que les 3 datasets aient le même nom\n"
   ]
  },
  {
   "cell_type": "code",
   "execution_count": 6,
   "id": "e25fd933",
   "metadata": {},
   "outputs": [],
   "source": [
    "#il manque la clé deaths dans beaucoup de dictionnaires, c'est pourquoi, lorque deaths n'est pas dans le dic\n",
    "#nous le mettons au nombre de morts minimum possible\n",
    "datasets = [eruptions, tsunamis, earthquakes]\n",
    "\n",
    "for dataset in datasets:\n",
    "  for dico in dataset : \n",
    "    if not (\"deaths\" in dico) :\n",
    "      if dico[\"deathsAmountOrder\"] == 1 :\n",
    "        dico[\"deaths\"] = 1\n",
    "      elif dico[\"deathsAmountOrder\"] == 2 :\n",
    "        dico[\"deaths\"] = 51\n",
    "      elif dico[\"deathsAmountOrder\"] == 3 :\n",
    "        dico[\"deaths\"] = 101\n",
    "      else :\n",
    "        dico[\"deaths\"] = 1001"
   ]
  },
  {
   "cell_type": "code",
   "execution_count": 7,
   "id": "7e7271b7",
   "metadata": {},
   "outputs": [],
   "source": [
    "#datasets = [eruptions, tsunamis, earthquakes]\n",
    "\n",
    "for eruption in eruptions:\n",
    "  eruption[\"typeEvent\"] = \"eruption\"\n",
    "\n",
    "for tsunami in tsunamis:\n",
    "  tsunami[\"typeEvent\"] = \"tsunami\"\n",
    "\n",
    "for earthquake in earthquakes:\n",
    "  earthquake[\"typeEvent\"] = \"earthquake\"\n"
   ]
  },
  {
   "cell_type": "code",
   "execution_count": 8,
   "id": "99b26c13",
   "metadata": {},
   "outputs": [],
   "source": [
    "#ajouter un nouveau dataset reprenant tous les evenements \n",
    "all_data = eruptions + tsunamis + earthquakes\n"
   ]
  },
  {
   "cell_type": "markdown",
   "id": "98175436",
   "metadata": {},
   "source": [
    "### compter les keys"
   ]
  },
  {
   "cell_type": "code",
   "execution_count": 9,
   "id": "3b26eb5f",
   "metadata": {},
   "outputs": [],
   "source": [
    "### pour chaque event, pour chaque key, key existe : augmenter compte, sinon créer compte\n",
    "def count_keys(listOfDict):\n",
    "\n",
    "    countDict = {}\n",
    "    for dict in listOfDict:\n",
    "        for key in dict.keys():\n",
    "            if key in countDict:\n",
    "                countDict[key] += 1\n",
    "            else:\n",
    "                countDict[key]=1\n",
    "                \n",
    "    return(countDict)\n",
    "                \n",
    "                "
   ]
  },
  {
   "cell_type": "code",
   "execution_count": 10,
   "id": "05354709",
   "metadata": {},
   "outputs": [
    {
     "data": {
      "text/plain": [
       "{'id': 587,\n",
       " 'year': 587,\n",
       " 'month': 509,\n",
       " 'day': 467,\n",
       " 'tsunamiEventId': 61,\n",
       " 'earthquakeEventId': 44,\n",
       " 'volcanoLocationId': 587,\n",
       " 'vei': 474,\n",
       " 'deathsAmountOrder': 587,\n",
       " 'startDate': 448,\n",
       " 'endDate': 364,\n",
       " 'comments': 584,\n",
       " 'damageAmountOrder': 125,\n",
       " 'housesDestroyedAmountOrder': 102,\n",
       " 'country': 587,\n",
       " 'latitude': 587,\n",
       " 'longitude': 587,\n",
       " 'name': 587,\n",
       " 'locationName': 587,\n",
       " 'deaths': 587,\n",
       " 'typeEvent': 587,\n",
       " 'damageMillionsDollars': 15,\n",
       " 'missing': 8,\n",
       " 'missingAmountOrder': 11,\n",
       " 'housesDestroyed': 35,\n",
       " 'injuriesAmountOrder': 114,\n",
       " 'injuries': 84,\n",
       " 'injuriesTotal': 85}"
      ]
     },
     "execution_count": 10,
     "metadata": {},
     "output_type": "execute_result"
    }
   ],
   "source": [
    "#Volcanos\n",
    "count_keys(eruptions)"
   ]
  },
  {
   "cell_type": "code",
   "execution_count": 11,
   "id": "c342c745",
   "metadata": {},
   "outputs": [
    {
     "data": {
      "text/plain": [
       "{'id': 719,\n",
       " 'year': 719,\n",
       " 'month': 697,\n",
       " 'day': 686,\n",
       " 'latitude': 702,\n",
       " 'longitude': 702,\n",
       " 'locationName': 718,\n",
       " 'country': 719,\n",
       " 'regionCode': 719,\n",
       " 'causeCode': 718,\n",
       " 'eventValidity': 719,\n",
       " 'damageAmountOrder': 642,\n",
       " 'deaths': 719,\n",
       " 'deathsAmountOrder': 719,\n",
       " 'comments': 704,\n",
       " 'earthquakeEventId': 619,\n",
       " 'housesDestroyedAmountOrder': 483,\n",
       " 'typeEvent': 719,\n",
       " 'hour': 476,\n",
       " 'minute': 444,\n",
       " 'maxWaterHeight': 416,\n",
       " 'volcanoEventId': 61,\n",
       " 'housesDestroyed': 199,\n",
       " 'housesDamaged': 62,\n",
       " 'housesDamagedAmountOrder': 126,\n",
       " 'injuries': 236,\n",
       " 'injuriesAmountOrder': 267,\n",
       " 'damageMillionsDollars': 123,\n",
       " 'second': 308,\n",
       " 'area': 42,\n",
       " 'missingAmountOrder': 10,\n",
       " 'missing': 9,\n",
       " 'tsMtAbe': 1}"
      ]
     },
     "execution_count": 11,
     "metadata": {},
     "output_type": "execute_result"
    }
   ],
   "source": [
    "#Tsunamis\n",
    "count_keys(tsunamis)"
   ]
  },
  {
   "cell_type": "code",
   "execution_count": 12,
   "id": "8b333864",
   "metadata": {},
   "outputs": [
    {
     "data": {
      "text/plain": [
       "{'id': 2565,\n",
       " 'year': 2565,\n",
       " 'second': 1745,\n",
       " 'locationName': 2565,\n",
       " 'latitude': 2558,\n",
       " 'longitude': 2558,\n",
       " 'deathsAmountOrder': 2565,\n",
       " 'damageAmountOrder': 2325,\n",
       " 'country': 2565,\n",
       " 'regionCode': 2565,\n",
       " 'deaths': 2565,\n",
       " 'typeEvent': 2565,\n",
       " 'month': 2454,\n",
       " 'day': 2404,\n",
       " 'eqMagnitude': 2030,\n",
       " 'intensity': 1442,\n",
       " 'housesDestroyedAmountOrder': 1197,\n",
       " 'comments': 2053,\n",
       " 'eqMagUnk': 331,\n",
       " 'tsunamiEventId': 534,\n",
       " 'eqDepth': 1391,\n",
       " 'hour': 1777,\n",
       " 'minute': 1697,\n",
       " 'housesDestroyed': 575,\n",
       " 'housesDestroyedTotal': 575,\n",
       " 'injuriesAmountOrder': 1071,\n",
       " 'housesDamagedAmountOrder': 533,\n",
       " 'volcanoEventId': 16,\n",
       " 'housesDamagedTotal': 250,\n",
       " 'injuries': 913,\n",
       " 'injuriesTotal': 916,\n",
       " 'damageMillionsDollars': 411,\n",
       " 'area': 44,\n",
       " 'housesDamaged': 307,\n",
       " 'missing': 23,\n",
       " 'missingAmountOrder': 22,\n",
       " 'missingTotal': 27}"
      ]
     },
     "execution_count": 12,
     "metadata": {},
     "output_type": "execute_result"
    }
   ],
   "source": [
    "#Earthquakes\n",
    "count_keys(earthquakes)"
   ]
  },
  {
   "cell_type": "markdown",
   "id": "6ab6810d",
   "metadata": {},
   "source": [
    "### exporter fichiers"
   ]
  },
  {
   "cell_type": "code",
   "execution_count": 13,
   "id": "2434b124",
   "metadata": {},
   "outputs": [],
   "source": [
    "# volcans\n",
    "with open(\"../Datasets_formatted/volcano_events_formatted.json\", \"w\") as file:\n",
    "    file.write(json.dumps(eruptions , indent=4, sort_keys=False))\n",
    "    \n",
    "# tsunamis\n",
    "with open(\"../Datasets_formatted/tsunamis_events_formatted.json\", \"w\") as file:\n",
    "    file.write(json.dumps(tsunamis , indent=4, sort_keys=False))\n",
    "    \n",
    "# earthquakes\n",
    "with open(\"../Datasets_formatted/earthquakes_events_formatted.json\", \"w\") as file:\n",
    "    file.write(json.dumps(earthquakes , indent=4, sort_keys=False)) \n",
    "\n",
    "# all_data\n",
    "with open(\"../Datasets_formatted/all_data.json\", \"w\") as file:\n",
    "    file.write(json.dumps(all_data , indent=4, sort_keys=False)) "
   ]
  }
 ],
 "metadata": {
  "kernelspec": {
   "display_name": "Python 3",
   "language": "python",
   "name": "python3"
  },
  "language_info": {
   "codemirror_mode": {
    "name": "ipython",
    "version": 3
   },
   "file_extension": ".py",
   "mimetype": "text/x-python",
   "name": "python",
   "nbconvert_exporter": "python",
   "pygments_lexer": "ipython3",
   "version": "3.9.1"
  }
 },
 "nbformat": 4,
 "nbformat_minor": 5
}
